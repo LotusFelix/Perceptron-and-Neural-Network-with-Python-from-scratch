{
 "cells": [
  {
   "cell_type": "markdown",
   "metadata": {},
   "source": [
    "# Assignment Part 1"
   ]
  },
  {
   "cell_type": "markdown",
   "metadata": {},
   "source": [
    "### 1.1. Complete the implementation of the Perceptron\n"
   ]
  },
  {
   "cell_type": "code",
   "execution_count": 1,
   "metadata": {},
   "outputs": [],
   "source": [
    "import numpy as np\n",
    "import matplotlib.pyplot as plt\n",
    "from matplotlib.pyplot import imshow\n",
    "from scipy.stats import truncnorm"
   ]
  },
  {
   "cell_type": "markdown",
   "metadata": {},
   "source": [
    "#### Loading and processing data"
   ]
  },
  {
   "cell_type": "code",
   "execution_count": 2,
   "metadata": {},
   "outputs": [],
   "source": [
    "train_data=np.loadtxt(\"data/assignment/overhead_mnist_train.csv\",delimiter=\",\")\n",
    "test_data=np.loadtxt(\"data/assignment/overhead_mnist_test.csv\",delimiter=\",\")"
   ]
  },
  {
   "cell_type": "code",
   "execution_count": 3,
   "metadata": {},
   "outputs": [
    {
     "data": {
      "text/plain": [
       "(68152, 785)"
      ]
     },
     "execution_count": 3,
     "metadata": {},
     "output_type": "execute_result"
    }
   ],
   "source": [
    "train_data.shape"
   ]
  },
  {
   "cell_type": "code",
   "execution_count": 4,
   "metadata": {},
   "outputs": [],
   "source": [
    "X_train=train_data[:,1:]\n",
    "y_train=train_data[:,0]\n",
    "X_test=test_data[:,1:]\n",
    "y_test=test_data[:,0]"
   ]
  },
  {
   "cell_type": "code",
   "execution_count": 5,
   "metadata": {},
   "outputs": [
    {
     "data": {
      "text/plain": [
       "((68152, 784), (8520, 784), (68152,), (8520,))"
      ]
     },
     "execution_count": 5,
     "metadata": {},
     "output_type": "execute_result"
    }
   ],
   "source": [
    "X_train.shape,X_test.shape,y_train.shape,y_test.shape"
   ]
  },
  {
   "cell_type": "code",
   "execution_count": 6,
   "metadata": {},
   "outputs": [
    {
     "data": {
      "text/plain": [
       "(255.0, 255.0)"
      ]
     },
     "execution_count": 6,
     "metadata": {},
     "output_type": "execute_result"
    }
   ],
   "source": [
    "X_train.max(),X_test.max()"
   ]
  },
  {
   "cell_type": "code",
   "execution_count": 7,
   "metadata": {},
   "outputs": [],
   "source": [
    "normalization_factor=0.99/X_train.max()"
   ]
  },
  {
   "cell_type": "code",
   "execution_count": 8,
   "metadata": {},
   "outputs": [],
   "source": [
    "X_train=X_train * normalization_factor + 0.01\n",
    "X_test=X_test * normalization_factor + 0.01"
   ]
  },
  {
   "cell_type": "code",
   "execution_count": 9,
   "metadata": {},
   "outputs": [],
   "source": [
    "# Encoding labels for single perceptron Label 7 binary classification"
   ]
  },
  {
   "cell_type": "code",
   "execution_count": 10,
   "metadata": {},
   "outputs": [],
   "source": [
    "class_7_train_data=(7==y_train).astype(float)\n",
    "class_7_test_data=(7==y_test).astype(float)"
   ]
  },
  {
   "cell_type": "markdown",
   "metadata": {},
   "source": [
    "#### Shuffling training and test data"
   ]
  },
  {
   "cell_type": "code",
   "execution_count": 11,
   "metadata": {},
   "outputs": [],
   "source": [
    "shuffler_train = np.arange(X_train.shape[0])\n",
    "np.random.shuffle(shuffler_train)\n",
    "\n",
    "shuffler_test = np.arange(X_test.shape[0])\n",
    "np.random.shuffle(shuffler_test)\n",
    "\n",
    "X_train_shuffled = X_train[shuffler_train]\n",
    "y_train_shuffled = y_train[shuffler_train]\n",
    "\n",
    "X_test_shuffled=X_test[shuffler_test]\n",
    "y_test_shuffled=y_test[shuffler_test]"
   ]
  },
  {
   "cell_type": "code",
   "execution_count": 12,
   "metadata": {},
   "outputs": [],
   "source": [
    "class Perceptron(object):\n",
    "\n",
    "    #==========================================#\n",
    "    # The init method is called when an object #\n",
    "    # is created. It can be used to initialize #\n",
    "    # the attributes of the class.             #\n",
    "    #==========================================#\n",
    "    def __init__(self, no_inputs, max_iterations=20, learning_rate=0.1, activation=\"step\"):\n",
    "        self.no_inputs = no_inputs\n",
    "        self.weights = np.ones(no_inputs) / no_inputs \n",
    "        self.max_iter = max_iterations\n",
    "        self.learning_rate = learning_rate\n",
    "        self.activation = activation\n",
    "\n",
    "    #=======================================#\n",
    "    # Prints the details of the perceptron. #\n",
    "    #=======================================#\n",
    "    def print_details(self):\n",
    "        print(\"No. inputs:\\t\" + str(self.no_inputs))\n",
    "        print(\"Max iterations:\\t\" + str(self.max_iter))\n",
    "        print(\"Learning rate:\\t\" + str(self.learning_rate))\n",
    "\n",
    "    def activate_sigmoid(self, a):\n",
    "        \n",
    "        o=1/(1+np.e**(-a))\n",
    "        return o\n",
    "    \n",
    "    def activate_step(self, a):\n",
    "        \n",
    "        \n",
    "        o=np.where(a>=0.0,1,0)\n",
    "        return o\n",
    "    \n",
    "    #=========================================#\n",
    "    # Performs feed-forward prediction on one #\n",
    "    # set of inputs.                          #\n",
    "    #=========================================#\n",
    "    \n",
    "    def do_predict(self, X):\n",
    "        \n",
    "        \n",
    "        self.input_weights=self.weights[1:]\n",
    "        self.bias=self.weights[0]\n",
    "        weighted_sum=np.dot(X,self.input_weights)+self.bias\n",
    "        output=self.activate_step(weighted_sum)\n",
    "        \n",
    "        return output\n",
    "\n",
    "    #======================================#\n",
    "    # Trains the perceptron using labelled #\n",
    "    # training data.                       #\n",
    "    #======================================#\n",
    "    \n",
    "    def do_train_online(self, training_data, labels):\n",
    "        assert len(training_data) == len(labels) # Ensure the training data and labels have the same length\n",
    "        \n",
    "        # Generate a sequence of indices the same length as the training data and shuffles to make model more robust \n",
    "        shuffler = np.arange(training_data.shape[0]) \n",
    "        np.random.shuffle(shuffler)\n",
    "        training_data_shuffled = training_data[shuffler]\n",
    "        labels_shuffled = labels[shuffler]\n",
    "        \n",
    "        # Initialize a list to keep track of weight and bias updates at each iteration\n",
    "        weight_bias_updates=[]\n",
    "        \n",
    "        # Iterate over the training process for a set number of iterations (epochs)\n",
    "        for iter in range(self.max_iter):\n",
    "        \n",
    "            for i in range(len(training_data_shuffled)):\n",
    "\n",
    "                predicted=self.do_predict(training_data_shuffled[i])\n",
    "                \n",
    "                input_vector=training_data_shuffled[i]\n",
    "                \n",
    "                target_vector=labels_shuffled[i]\n",
    "                \n",
    "                error=target_vector-predicted\n",
    "                \n",
    "                weight_update_value=self.learning_rate*error*input_vector\n",
    "                \n",
    "                bias_update_value=self.learning_rate*error*1\n",
    "                \n",
    "                self.input_weights+=weight_update_value\n",
    "                \n",
    "                self.bias+=bias_update_value\n",
    "                \n",
    "            # At the end of each iteration, save a copy of the current weights and bias\n",
    "            weight_bias_updates.append((self.input_weights.copy(),self.bias.copy()))\n",
    "        \n",
    "        return weight_bias_updates\n",
    "\n",
    "    #=========================================#\n",
    "    # Tests the prediction on each element of #\n",
    "    # the testing data. Prints the precision, #\n",
    "    # recall, and accuracy of the perceptron. #\n",
    "    #=========================================#\n",
    "    def test(self, testing_data, labels):\n",
    "        \n",
    "        assert len(testing_data) == len(labels)\n",
    "        \n",
    "        \n",
    "        correct_predictions,wrong_predictions=0,0\n",
    "        \n",
    "        confusion_matrix=np.zeros((2,2),int)\n",
    "        \n",
    "        for i in range(len(testing_data)):\n",
    "            \n",
    "            predicted_label=int(self.do_predict(testing_data[i]))\n",
    "            \n",
    "            actual_label=int(labels[i])\n",
    "            \n",
    "            confusion_matrix[actual_label,predicted_label]+=1\n",
    "            \n",
    "            if predicted_label==actual_label:\n",
    "                correct_predictions+=1  \n",
    "            else:\n",
    "                wrong_predictions+=1\n",
    "                \n",
    "        accuracy=correct_predictions/len(testing_data)\n",
    "        \n",
    "        true_positives=confusion_matrix[0,0]+confusion_matrix[1,1]\n",
    "        false_positives=confusion_matrix[0,1]\n",
    "        false_negatives=confusion_matrix[1,0]\n",
    "        \n",
    "        precision=true_positives/(true_positives+false_positives)\n",
    "        recall=true_positives/(true_positives+false_negatives)\n",
    "      \n",
    "        print(\"Accuracy:\\t\"+str(accuracy))\n",
    "        print(\"Precision:\\t\"+str(precision))\n",
    "        print(\"Recall:\\t\"+str(recall))\n",
    "        print(\"confusion matrix:\")\n",
    "        print(confusion_matrix)\n",
    "        return (accuracy,precision,recall)"
   ]
  },
  {
   "cell_type": "code",
   "execution_count": 13,
   "metadata": {},
   "outputs": [
    {
     "name": "stdout",
     "output_type": "stream",
     "text": [
      "No. inputs:\t785\n",
      "Max iterations:\t20\n",
      "Learning rate:\t0.1\n"
     ]
    }
   ],
   "source": [
    "p = Perceptron(28*28+1)\n",
    "p.print_details()"
   ]
  },
  {
   "cell_type": "code",
   "execution_count": 14,
   "metadata": {},
   "outputs": [],
   "source": [
    "weights_step_online=p.do_train_online(X_train,class_7_train_data)"
   ]
  },
  {
   "cell_type": "code",
   "execution_count": 15,
   "metadata": {},
   "outputs": [
    {
     "name": "stdout",
     "output_type": "stream",
     "text": [
      "Accuracy:\t0.9171361502347418\n",
      "Precision:\t0.9567772743969634\n",
      "Recall:\t0.9567772743969634\n",
      "confusion matrix:\n",
      "[[7279  353]\n",
      " [ 353  535]]\n"
     ]
    }
   ],
   "source": [
    "results_step_online=p.test(X_test,class_7_test_data)"
   ]
  },
  {
   "cell_type": "markdown",
   "metadata": {},
   "source": [
    "### Updating Step Function Perceptron for Batch Learning"
   ]
  },
  {
   "cell_type": "code",
   "execution_count": 49,
   "metadata": {},
   "outputs": [],
   "source": [
    "class Perceptron(object):\n",
    "\n",
    "    #==========================================#\n",
    "    # The init method is called when an object #\n",
    "    # is created. It can be used to initialize #\n",
    "    # the attributes of the class.             #\n",
    "    #==========================================#\n",
    "    def __init__(self, no_inputs, max_iterations=20, learning_rate=0.1, activation=\"step\"):\n",
    "        self.no_inputs = no_inputs\n",
    "        self.weights = np.ones(no_inputs) / no_inputs \n",
    "        self.max_iter = max_iterations\n",
    "        self.learning_rate = learning_rate\n",
    "        self.activation = activation\n",
    "\n",
    "    #=======================================#\n",
    "    # Prints the details of the perceptron. #\n",
    "    #=======================================#\n",
    "    def print_details(self):\n",
    "        print(\"No. inputs:\\t\" + str(self.no_inputs))\n",
    "        print(\"Max iterations:\\t\" + str(self.max_iter))\n",
    "        print(\"Learning rate:\\t\" + str(self.learning_rate))\n",
    "\n",
    "    def activate_sigmoid(self, a):\n",
    "        \n",
    "        o=1/(1+np.e**(-a))\n",
    "        return o\n",
    "    \n",
    "    def activate_step(self, a):\n",
    "       \n",
    "        \n",
    "        o=np.where(a>=0.0,1,0)\n",
    "        return o\n",
    "    \n",
    "    #=========================================#\n",
    "    # Performs feed-forward prediction on one #\n",
    "    # set of inputs.                          #\n",
    "    #=========================================#\n",
    "    \n",
    "    def do_predict(self, X):\n",
    "       \n",
    "        self.input_weights=self.weights[1:]\n",
    "        self.bias=self.weights[0]\n",
    "        weighted_sum=np.dot(X,self.input_weights)+self.bias\n",
    "        output=self.activate_step(weighted_sum)\n",
    "        \n",
    "        return output\n",
    "\n",
    "    #======================================#\n",
    "    # Trains the perceptron using labelled #\n",
    "    # training data.                       #\n",
    "    #======================================#\n",
    "    \n",
    "\n",
    "    def do_train_batch(self, training_data, labels, batch_size=32):\n",
    "        \n",
    "        assert len(training_data) == len(labels)\n",
    "        # Shuffling data\n",
    "        shuffler = np.arange(training_data.shape[0])\n",
    "        np.random.shuffle(shuffler)\n",
    "        training_data_shuffled = training_data[shuffler]\n",
    "        labels_shuffled = labels[shuffler]\n",
    "\n",
    "        for iter in range(self.max_iter):\n",
    "            # Iterate over batches\n",
    "            for batch_start in range(0, len(training_data_shuffled), batch_size):\n",
    "                batch_end= min(batch_start + batch_size, len(training_data_shuffled))\n",
    "                batch_data = training_data_shuffled[batch_start:batch_end]\n",
    "                batch_labels = labels_shuffled[batch_start:batch_end]\n",
    "\n",
    "                # This batch learning approach accumulate updates for each batch in the training data\n",
    "                \n",
    "                weight_updates = np.zeros(self.no_inputs - 1)  # excluding bias\n",
    "                \n",
    "                bias_update = 0\n",
    "\n",
    "                for i in range(len(batch_data)):\n",
    "                    \n",
    "                    predicted = self.do_predict(batch_data[i])\n",
    "                    actual_label=batch_labels[i]\n",
    "                    \n",
    "                    error = actual_label - predicted\n",
    "\n",
    "                    weight_updates += self.learning_rate * error * batch_data[i]\n",
    "                    bias_update += self.learning_rate * error\n",
    "\n",
    "                # The average of the weight and bias updates across a batch are applied network to weights and bias\n",
    "                \n",
    "                self.input_weights += weight_updates / len(batch_data)\n",
    "                self.bias += bias_update / len(batch_data)\n",
    "                \n",
    "    def test(self, testing_data, labels):\n",
    "        \n",
    "        assert len(testing_data) == len(labels)\n",
    "        \n",
    "        \n",
    "        correct_predictions,wrong_predictions=0,0\n",
    "        \n",
    "        confusion_matrix=np.zeros((2,2),int)\n",
    "        \n",
    "        for i in range(len(testing_data)):\n",
    "            \n",
    "            predicted_label=self.do_predict(testing_data[i])\n",
    "            \n",
    "            actual_label=int(labels[i])\n",
    "            \n",
    "            confusion_matrix[actual_label,predicted_label]+=1\n",
    "            \n",
    "            if predicted_label==actual_label:\n",
    "                correct_predictions+=1  \n",
    "            else:\n",
    "                wrong_predictions+=1\n",
    "                \n",
    "        accuracy=correct_predictions/len(testing_data)\n",
    "        \n",
    "        true_positives=confusion_matrix[0,0]+confusion_matrix[1,1]\n",
    "        false_positives=confusion_matrix[0,1]\n",
    "        false_negatives=confusion_matrix[1,0]\n",
    "        \n",
    "        precision=true_positives/(true_positives+false_positives)\n",
    "        recall=true_positives/(true_positives+false_negatives)\n",
    "      \n",
    "        print(\"Accuracy:\\t\"+str(accuracy))\n",
    "        print(\"Precision:\\t\"+str(precision))\n",
    "        print(\"Recall:\\t\"+str(recall))\n",
    "        print(confusion_matrix)\n",
    "        \n",
    "        return (accuracy,precision,recall)"
   ]
  },
  {
   "cell_type": "code",
   "execution_count": 50,
   "metadata": {},
   "outputs": [
    {
     "name": "stdout",
     "output_type": "stream",
     "text": [
      "No. inputs:\t785\n",
      "Max iterations:\t20\n",
      "Learning rate:\t0.1\n"
     ]
    }
   ],
   "source": [
    "p_batch= Perceptron(28*28+1)\n",
    "p_batch.print_details()"
   ]
  },
  {
   "cell_type": "code",
   "execution_count": 51,
   "metadata": {
    "scrolled": true
   },
   "outputs": [
    {
     "name": "stdout",
     "output_type": "stream",
     "text": [
      "Accuracy:\t0.9227699530516432\n",
      "Precision:\t0.9953158627674389\n",
      "Recall:\t0.9267947660025935\n",
      "[[7595   37]\n",
      " [ 621  267]]\n"
     ]
    },
    {
     "data": {
      "text/plain": [
       "(0.9227699530516432, 0.9953158627674389, 0.9267947660025935)"
      ]
     },
     "execution_count": 51,
     "metadata": {},
     "output_type": "execute_result"
    }
   ],
   "source": [
    "weights_step_batch=p_batch.do_train_batch(X_train,class_7_train_data)\n",
    "\n",
    "results_step_batch=p_batch.test(X_test,class_7_test_data)\n",
    "\n",
    "results_step_batch"
   ]
  },
  {
   "cell_type": "markdown",
   "metadata": {},
   "source": [
    "### Updating the perceptron to use the sigmoid activation function and online Learning"
   ]
  },
  {
   "cell_type": "code",
   "execution_count": 19,
   "metadata": {},
   "outputs": [],
   "source": [
    "class Perceptron(object):\n",
    "\n",
    "    #==========================================#\n",
    "    # The init method is called when an object #\n",
    "    # is created. It can be used to initialize #\n",
    "    # the attributes of the class.             #\n",
    "    #==========================================#\n",
    "    def __init__(self, no_inputs, max_iterations=10, learning_rate=0.1, activation=\"step\"):\n",
    "        self.no_inputs = no_inputs\n",
    "        self.weights = np.ones(no_inputs) / no_inputs \n",
    "        self.max_iter = max_iterations\n",
    "        self.learning_rate = learning_rate\n",
    "        self.activation = activation\n",
    "\n",
    "    #=======================================#\n",
    "    # Prints the details of the perceptron. #\n",
    "    #=======================================#\n",
    "    def print_details(self):\n",
    "        print(\"No. inputs:\\t\" + str(self.no_inputs))\n",
    "        print(\"Max iterations:\\t\" + str(self.max_iter))\n",
    "        print(\"Learning rate:\\t\" + str(self.learning_rate))\n",
    "\n",
    "    def activate_sigmoid(self, a):\n",
    "       \n",
    "        o=1/(1+np.e**(-a))\n",
    "        return o\n",
    "    \n",
    "    def activate_step(self, a):\n",
    "       \n",
    "        o=np.where(a>=0.0,1,0)\n",
    "        return o\n",
    "    \n",
    "    #=========================================#\n",
    "    # Performs feed-forward prediction on one #\n",
    "    # set of inputs.                          #\n",
    "    #=========================================#\n",
    "    \n",
    "    def do_predict(self, X):\n",
    "        # TO-DO:\n",
    "        \n",
    "        self.input_weights=self.weights[1:]\n",
    "        self.bias=self.weights[0]\n",
    "        weighted_sum=np.dot(X,self.input_weights)+self.bias\n",
    "        output=self.activate_sigmoid(weighted_sum)\n",
    "        \n",
    "        return output\n",
    "\n",
    "    #======================================#\n",
    "    # Trains the perceptron using labelled #\n",
    "    # training data.                       #\n",
    "    #======================================#\n",
    "    def do_train_online(self, training_data, labels):\n",
    "        assert len(training_data) == len(labels)\n",
    "            \n",
    "        #shuffling data\n",
    "        \n",
    "        shuffler = np.arange(training_data.shape[0])\n",
    "        np.random.shuffle(shuffler)\n",
    "        training_data_shuffled = training_data[shuffler]\n",
    "        labels_shuffled = labels[shuffler]\n",
    "        \n",
    "        weight_bias_updates=[]\n",
    "        \n",
    "        for iter in range(self.max_iter):\n",
    "        \n",
    "            for i in range(len(training_data_shuffled)):\n",
    "                \n",
    "                input_vector=training_data_shuffled[i]\n",
    "\n",
    "                predicted=self.do_predict(input_vector)\n",
    "                \n",
    "                #input_vector=training_data_shuffled[i]\n",
    "                \n",
    "                target_vector=labels_shuffled[i]\n",
    "                \n",
    "                error=target_vector-predicted\n",
    "                \n",
    "                weight_update_value=self.learning_rate*error*input_vector\n",
    "                \n",
    "                bias_update_value=self.learning_rate*error*1\n",
    "                \n",
    "                self.input_weights+=weight_update_value\n",
    "                \n",
    "                self.bias+=bias_update_value\n",
    "            \n",
    "            weight_bias_updates.append((self.input_weights.copy(),self.bias.copy()))\n",
    "        \n",
    "        return weight_bias_updates\n",
    "\n",
    "    #=========================================#\n",
    "    # Tests the prediction on each element of #\n",
    "    # the testing data. Prints the precision, #\n",
    "    # recall, and accuracy of the perceptron. #\n",
    "    #=========================================#\n",
    "    def test(self, testing_data, labels):\n",
    "        \n",
    "        assert len(testing_data) == len(labels)\n",
    "        \n",
    "       \n",
    "        correct_predictions,wrong_predictions=0,0\n",
    "        \n",
    "        confusion_matrix=np.zeros((2,2),int)\n",
    "        \n",
    "        for i in range(len(testing_data)):\n",
    "            \n",
    "            predicted_label=self.do_predict(testing_data[i])\n",
    "            \n",
    "            predicted_label=np.where(predicted_label>=0.999,1,0)\n",
    "            \n",
    "            actual_label=int(labels[i])\n",
    "            \n",
    "            confusion_matrix[actual_label,predicted_label]+=1\n",
    "            \n",
    "            if predicted_label==actual_label:\n",
    "                correct_predictions+=1  \n",
    "            else:\n",
    "                wrong_predictions+=1\n",
    "                \n",
    "        accuracy=correct_predictions/len(testing_data)\n",
    "        \n",
    "        true_positives=confusion_matrix[0,0]+confusion_matrix[1,1]\n",
    "        false_positives=confusion_matrix[0,1]\n",
    "        false_negatives=confusion_matrix[1,0]\n",
    "        \n",
    "        precision=true_positives/(true_positives+false_positives)\n",
    "        recall=true_positives/(true_positives+false_negatives)\n",
    "      \n",
    "        print(\"Accuracy:\\t\"+str(accuracy))\n",
    "        print(\"Precision:\\t\"+str(precision))\n",
    "        print(\"Recall:\\t\"+str(recall))\n",
    "        print(confusion_matrix)\n",
    "        \n",
    "        return (accuracy,precision,recall)"
   ]
  },
  {
   "cell_type": "code",
   "execution_count": 20,
   "metadata": {
    "scrolled": false
   },
   "outputs": [
    {
     "name": "stdout",
     "output_type": "stream",
     "text": [
      "No. inputs:\t785\n",
      "Max iterations:\t10\n",
      "Learning rate:\t0.1\n"
     ]
    }
   ],
   "source": [
    "sigmoid_online= Perceptron(28*28+1)\n",
    "sigmoid_online.print_details()"
   ]
  },
  {
   "cell_type": "code",
   "execution_count": 21,
   "metadata": {},
   "outputs": [
    {
     "name": "stdout",
     "output_type": "stream",
     "text": [
      "Accuracy:\t0.9269953051643193\n",
      "Precision:\t0.9935840986287583\n",
      "Recall:\t0.9325776360845436\n",
      "[[7581   51]\n",
      " [ 571  317]]\n"
     ]
    },
    {
     "data": {
      "text/plain": [
       "(0.9269953051643193, 0.9935840986287583, 0.9325776360845436)"
      ]
     },
     "execution_count": 21,
     "metadata": {},
     "output_type": "execute_result"
    }
   ],
   "source": [
    "weights_sigmoid_online=sigmoid_online.do_train_online(X_train,class_7_train_data)\n",
    "\n",
    "results_sigmoid_online=sigmoid_online.test(X_test,class_7_test_data)\n",
    "\n",
    "results_sigmoid_online"
   ]
  },
  {
   "cell_type": "markdown",
   "metadata": {},
   "source": [
    "### Updating the perceptron to use the sigmoid activation function and Batch Learning"
   ]
  },
  {
   "cell_type": "code",
   "execution_count": 22,
   "metadata": {},
   "outputs": [],
   "source": [
    "class Perceptron(object):\n",
    "\n",
    "    #==========================================#\n",
    "    # The init method is called when an object #\n",
    "    # is created. It can be used to initialize #\n",
    "    # the attributes of the class.             #\n",
    "    #==========================================#\n",
    "    def __init__(self, no_inputs, max_iterations=20, learning_rate=0.1, activation=\"step\"):\n",
    "        self.no_inputs = no_inputs\n",
    "        self.weights = np.ones(no_inputs) / no_inputs \n",
    "        self.max_iter = max_iterations\n",
    "        self.learning_rate = learning_rate\n",
    "        self.activation = activation\n",
    "\n",
    "    #=======================================#\n",
    "    # Prints the details of the perceptron. #\n",
    "    #=======================================#\n",
    "    def print_details(self):\n",
    "        print(\"No. inputs:\\t\" + str(self.no_inputs))\n",
    "        print(\"Max iterations:\\t\" + str(self.max_iter))\n",
    "        print(\"Learning rate:\\t\" + str(self.learning_rate))\n",
    "\n",
    "    def activate_sigmoid(self, a):\n",
    "       \n",
    "        o=1/(1+np.e**(-a))\n",
    "        return o\n",
    "    \n",
    "    def activate_step(self, a):\n",
    "       \n",
    "        \n",
    "        o=np.where(a>=0.0,1,0)\n",
    "        return o\n",
    "    \n",
    "    #=========================================#\n",
    "    # Performs feed-forward prediction on one #\n",
    "    # set of inputs.                          #\n",
    "    #=========================================#\n",
    "    \n",
    "    def do_predict(self, X):\n",
    "        \n",
    "        \n",
    "        self.input_weights=self.weights[1:]\n",
    "        self.bias=self.weights[0]\n",
    "        weighted_sum=np.dot(X,self.input_weights)+self.bias\n",
    "        output=self.activate_sigmoid(weighted_sum)\n",
    "        \n",
    "        return output\n",
    "\n",
    "    #======================================#\n",
    "    # Trains the perceptron using labelled #\n",
    "    # training data.                       #\n",
    "    #======================================#\n",
    "    \n",
    "\n",
    "    def do_train_batch(self, training_data, labels, batch_size=64):\n",
    "        assert len(training_data) == len(labels)\n",
    "        # Shuffling data\n",
    "        shuffler = np.arange(training_data.shape[0])\n",
    "        np.random.shuffle(shuffler)\n",
    "        training_data_shuffled = training_data[shuffler]\n",
    "        labels_shuffled = labels[shuffler]\n",
    "\n",
    "        for iter in range(self.max_iter):\n",
    "            # Iterate over batches\n",
    "            for batch_start in range(0, len(training_data_shuffled), batch_size):\n",
    "                batch_end= min(batch_start + batch_size, len(training_data_shuffled))\n",
    "                batch_data = training_data_shuffled[batch_start:batch_end]\n",
    "                batch_labels = labels_shuffled[batch_start:batch_end]\n",
    "\n",
    "                # This batch learning approach accumulate updates for each batch in the training data\n",
    "                \n",
    "                weight_updates = np.zeros(self.no_inputs - 1)  # excluding bias\n",
    "                \n",
    "                bias_update = 0\n",
    "\n",
    "                for i in range(len(batch_data)):\n",
    "                    \n",
    "                    predicted = self.do_predict(batch_data[i])\n",
    "                    actual_label=batch_labels[i]\n",
    "                    \n",
    "                    error = actual_label - predicted\n",
    "\n",
    "                    weight_updates += self.learning_rate * error * batch_data[i]\n",
    "                    bias_update += self.learning_rate * error\n",
    "\n",
    "                # The average of the weight and bias updates across a batch are applied network to weights and bias\n",
    "                \n",
    "                self.input_weights += weight_updates / len(batch_data)\n",
    "                self.bias += bias_update / len(batch_data)\n",
    "                \n",
    "    def test(self, testing_data, labels):\n",
    "        \n",
    "        assert len(testing_data) == len(labels)\n",
    "        \n",
    "        # TO-DO:\n",
    "        #accuracy = 0.0\n",
    "        #precision = 0.0\n",
    "        #recall = 0.0\n",
    "        correct_predictions,wrong_predictions=0,0\n",
    "        \n",
    "        confusion_matrix=np.zeros((2,2),int)\n",
    "        \n",
    "        for i in range(len(testing_data)):\n",
    "            \n",
    "            predicted_label=self.do_predict(testing_data[i])\n",
    "            \n",
    "            predicted_label=np.where(predicted_label>=0.999,1,0)\n",
    "            \n",
    "            actual_label=int(labels[i])\n",
    "            \n",
    "            confusion_matrix[actual_label,predicted_label]+=1\n",
    "            \n",
    "            if predicted_label==actual_label:\n",
    "                correct_predictions+=1  \n",
    "            else:\n",
    "                wrong_predictions+=1\n",
    "                \n",
    "        accuracy=correct_predictions/len(testing_data)\n",
    "        \n",
    "        true_positives=confusion_matrix[0,0]+confusion_matrix[1,1]\n",
    "        false_positives=confusion_matrix[0,1]\n",
    "        false_negatives=confusion_matrix[1,0]\n",
    "        \n",
    "        precision=true_positives/(true_positives+false_positives)\n",
    "        recall=true_positives/(true_positives+false_negatives)\n",
    "      \n",
    "        print(\"Accuracy:\\t\"+str(accuracy))\n",
    "        print(\"Precision:\\t\"+str(precision))\n",
    "        print(\"Recall:\\t\"+str(recall))\n",
    "        print(confusion_matrix)\n",
    "        \n",
    "        return (accuracy,precision,recall)"
   ]
  },
  {
   "cell_type": "code",
   "execution_count": 23,
   "metadata": {
    "scrolled": true
   },
   "outputs": [
    {
     "name": "stdout",
     "output_type": "stream",
     "text": [
      "No. inputs:\t785\n",
      "Max iterations:\t20\n",
      "Learning rate:\t0.1\n"
     ]
    }
   ],
   "source": [
    "sigmoid_batch = Perceptron(28*28+1)\n",
    "sigmoid_batch.print_details()"
   ]
  },
  {
   "cell_type": "code",
   "execution_count": 24,
   "metadata": {},
   "outputs": [
    {
     "name": "stdout",
     "output_type": "stream",
     "text": [
      "Accuracy:\t0.8987089201877935\n",
      "Precision:\t1.0\n",
      "Recall:\t0.8987089201877935\n",
      "[[7632    0]\n",
      " [ 863   25]]\n"
     ]
    },
    {
     "data": {
      "text/plain": [
       "(0.8987089201877935, 1.0, 0.8987089201877935)"
      ]
     },
     "execution_count": 24,
     "metadata": {},
     "output_type": "execute_result"
    }
   ],
   "source": [
    "weights_sigmoid_batch=sigmoid_batch.do_train_batch(X_train,class_7_train_data)\n",
    "\n",
    "results_sigmoid_batch=sigmoid_batch.test(X_test,class_7_test_data)\n",
    "\n",
    "results_sigmoid_batch"
   ]
  },
  {
   "cell_type": "markdown",
   "metadata": {},
   "source": [
    "## 1.4. Use multiple batch-learning step-activation perceptrons to classify every dataset type "
   ]
  },
  {
   "cell_type": "markdown",
   "metadata": {},
   "source": [
    "#### Version A: Creating 10 invididual step-activation perceptrons to classify every dataset type "
   ]
  },
  {
   "cell_type": "code",
   "execution_count": 25,
   "metadata": {},
   "outputs": [],
   "source": [
    "#create label-encoded data for every class"
   ]
  },
  {
   "cell_type": "code",
   "execution_count": 26,
   "metadata": {},
   "outputs": [],
   "source": [
    "y_train_full=train_data[:,0]\n",
    "y_test_full=test_data[:,0]"
   ]
  },
  {
   "cell_type": "code",
   "execution_count": 27,
   "metadata": {},
   "outputs": [],
   "source": [
    "#Encoding for every class\n",
    "class_0_train=(0==y_train_full).astype(float)\n",
    "class_0_test=(0==y_test_full).astype(float)\n",
    "\n",
    "class_1_train=(1==y_train_full).astype(float)\n",
    "class_1_test=(1==y_test_full).astype(float)\n",
    "\n",
    "class_2_train=(2==y_train_full).astype(float)\n",
    "class_2_test=(2==y_test_full).astype(float)\n",
    "\n",
    "class_3_train=(3==y_train_full).astype(float)\n",
    "class_3_test=(3==y_test_full).astype(float)\n",
    "\n",
    "class_4_train=(4==y_train_full).astype(float)\n",
    "class_4_test=(4==y_test_full).astype(float)\n",
    "\n",
    "class_5_train=(5==y_train_full).astype(float)\n",
    "class_5_test=(5==y_test_full).astype(float)\n",
    "\n",
    "class_6_train=(6==y_train_full).astype(float)\n",
    "class_6_test=(6==y_test_full).astype(float)\n",
    "\n",
    "class_8_train=(8==y_train_full).astype(float)\n",
    "class_8_test=(8==y_test_full).astype(float)\n",
    "\n",
    "class_9_train=(9==y_train_full).astype(float)\n",
    "class_9_test=(9==y_test_full).astype(float)"
   ]
  },
  {
   "cell_type": "code",
   "execution_count": 28,
   "metadata": {},
   "outputs": [],
   "source": [
    "class Perceptron_Step(object):\n",
    "\n",
    "    #==========================================#\n",
    "    # The init method is called when an object #\n",
    "    # is created. It can be used to initialize #\n",
    "    # the attributes of the class.             #\n",
    "    #==========================================#\n",
    "    def __init__(self, no_inputs, max_iterations=20, learning_rate=0.1, activation=\"step\"):\n",
    "        self.no_inputs = no_inputs\n",
    "        self.weights = np.ones(no_inputs) / no_inputs \n",
    "        self.max_iter = max_iterations\n",
    "        self.learning_rate = learning_rate\n",
    "        self.activation = activation\n",
    "\n",
    "    #=======================================#\n",
    "    # Prints the details of the perceptron. #\n",
    "    #=======================================#\n",
    "    def print_details(self):\n",
    "        print(\"No. inputs:\\t\" + str(self.no_inputs))\n",
    "        print(\"Max iterations:\\t\" + str(self.max_iter))\n",
    "        print(\"Learning rate:\\t\" + str(self.learning_rate))\n",
    "\n",
    "    def activate_sigmoid(self, a):\n",
    "        # TO-DO: implement sigmoid\n",
    "        o=1/(1+np.e**(-a))\n",
    "        return o\n",
    "    \n",
    "    def activate_step(self, a):\n",
    "        # TO-DO: implement step\n",
    "        \n",
    "        o=np.where(a>=0.0,1,0)\n",
    "        return o\n",
    "    \n",
    "    #=========================================#\n",
    "    # Performs feed-forward prediction on one #\n",
    "    # set of inputs.                          #\n",
    "    #=========================================#\n",
    "    \n",
    "    def do_predict(self, X):\n",
    "        # TO-DO:\n",
    "        \n",
    "        self.input_weights=self.weights[1:]\n",
    "        self.bias=self.weights[0]\n",
    "        weighted_sum=np.dot(X,self.input_weights)+self.bias\n",
    "        output=self.activate_step(weighted_sum)\n",
    "        \n",
    "        return output\n",
    "\n",
    "    #======================================#\n",
    "    # Trains the perceptron using labelled #\n",
    "    # training data.                       #\n",
    "    #======================================#\n",
    "    \n",
    "\n",
    "    def do_train_batch(self, training_data, labels, batch_size=32):\n",
    "        \n",
    "        assert len(training_data) == len(labels)\n",
    "        # Shuffling data\n",
    "        shuffler = np.arange(training_data.shape[0])\n",
    "        np.random.shuffle(shuffler)\n",
    "        training_data_shuffled = training_data[shuffler]\n",
    "        labels_shuffled = labels[shuffler]\n",
    "\n",
    "        for iter in range(self.max_iter):\n",
    "            # Iterate over batches\n",
    "            for batch_start in range(0, len(training_data_shuffled), batch_size):\n",
    "                batch_end= min(batch_start + batch_size, len(training_data_shuffled))\n",
    "                batch_data = training_data_shuffled[batch_start:batch_end]\n",
    "                batch_labels = labels_shuffled[batch_start:batch_end]\n",
    "\n",
    "                # This batch learning approach accumulate updates for each batch in the training data\n",
    "                \n",
    "                weight_updates = np.zeros(self.no_inputs - 1)  # excluding bias\n",
    "                \n",
    "                bias_update = 0\n",
    "\n",
    "                for i in range(len(batch_data)):\n",
    "                    \n",
    "                    predicted = self.do_predict(batch_data[i])\n",
    "                    actual_label=batch_labels[i]\n",
    "                    \n",
    "                    error = actual_label - predicted\n",
    "\n",
    "                    weight_updates += self.learning_rate * error * batch_data[i]\n",
    "                    bias_update += self.learning_rate * error\n",
    "\n",
    "                # The average of the weight and bias updates across a batch are applied network to weights and bias\n",
    "                \n",
    "                self.input_weights += weight_updates / len(batch_data)\n",
    "                self.bias += bias_update / len(batch_data)\n",
    "                \n",
    "    def test(self, testing_data, labels):\n",
    "        \n",
    "        assert len(testing_data) == len(labels)\n",
    "        \n",
    "    \n",
    "        correct_predictions,wrong_predictions=0,0\n",
    "        \n",
    "        confusion_matrix=np.zeros((2,2),int)\n",
    "        \n",
    "        for i in range(len(testing_data)):\n",
    "            \n",
    "            predicted_label=self.do_predict(testing_data[i])\n",
    "            \n",
    "            #predicted_label=np.where(predicted_label>=0.999,1,0)\n",
    "            \n",
    "            actual_label=int(labels[i])\n",
    "            \n",
    "            confusion_matrix[actual_label,predicted_label]+=1\n",
    "            \n",
    "            if predicted_label==actual_label:\n",
    "                correct_predictions+=1  \n",
    "            else:\n",
    "                wrong_predictions+=1\n",
    "                \n",
    "        accuracy=correct_predictions/len(testing_data)\n",
    "        \n",
    "        true_positives=confusion_matrix[0,0]+confusion_matrix[1,1]\n",
    "        false_positives=confusion_matrix[0,1]\n",
    "        false_negatives=confusion_matrix[1,0]\n",
    "        \n",
    "        precision=true_positives/(true_positives+false_positives)\n",
    "        recall=true_positives/(true_positives+false_negatives)\n",
    "      \n",
    "        print(\"Accuracy:\\t\"+str(accuracy))\n",
    "        print(\"Precision:\\t\"+str(precision))\n",
    "        print(\"Recall:\\t\"+str(recall))\n",
    "        print(confusion_matrix)\n",
    "        \n",
    "        return (accuracy,precision,recall)"
   ]
  },
  {
   "cell_type": "code",
   "execution_count": 29,
   "metadata": {},
   "outputs": [],
   "source": [
    "# training 10 individual perceptrons for 10 classes\n",
    "\n",
    "class_0_perceptron=Perceptron_Step(28*28+1)\n",
    "class_0_weights=class_0_perceptron.do_train_batch(X_train,class_0_train)\n",
    "\n",
    "class_1_perceptron=Perceptron_Step(28*28+1)\n",
    "class_1_weights=class_1_perceptron.do_train_batch(X_train,class_1_train)\n",
    "\n",
    "class_2_perceptron=Perceptron_Step(28*28+1)\n",
    "class_2_weights=class_2_perceptron.do_train_batch(X_train,class_2_train)\n",
    "\n",
    "class_3_perceptron=Perceptron_Step(28*28+1)\n",
    "class_3_weights=class_3_perceptron.do_train_batch(X_train,class_3_train)\n",
    "\n",
    "class_4_perceptron=Perceptron_Step(28*28+1)\n",
    "class_4_weights=class_4_perceptron.do_train_batch(X_train,class_4_train)\n",
    "\n",
    "class_5_perceptron=Perceptron_Step(28*28+1)\n",
    "class_5_weights=class_5_perceptron.do_train_batch(X_train,class_5_train)\n",
    "\n",
    "class_6_perceptron=Perceptron_Step(28*28+1)\n",
    "class_6_weights=class_6_perceptron.do_train_batch(X_train,class_6_train)\n",
    "\n",
    "class_8_perceptron=Perceptron_Step(28*28+1)\n",
    "class_8_weights=class_8_perceptron.do_train_batch(X_train,class_8_train)\n",
    "\n",
    "class_9_perceptron=Perceptron_Step(28*28+1)\n",
    "class_9_weights=class_9_perceptron.do_train_batch(X_train,class_9_train)"
   ]
  },
  {
   "cell_type": "code",
   "execution_count": 30,
   "metadata": {},
   "outputs": [],
   "source": [
    "class_7_train=(7==y_train_full).astype(float)\n",
    "class_7_test=(7==y_test_full).astype(float)"
   ]
  },
  {
   "cell_type": "code",
   "execution_count": 31,
   "metadata": {},
   "outputs": [],
   "source": [
    "class_7_perceptron=Perceptron_Step(28*28+1)\n",
    "class_7_weights=class_7_perceptron.do_train_batch(X_train,class_7_train)"
   ]
  },
  {
   "cell_type": "code",
   "execution_count": 32,
   "metadata": {},
   "outputs": [],
   "source": [
    "trained_class_predictors=[class_0_perceptron,class_1_perceptron,class_2_perceptron,\n",
    "                  class_3_perceptron,class_4_perceptron, class_5_perceptron,class_6_perceptron,\n",
    "                 class_7_perceptron,class_8_perceptron,class_9_perceptron]\n",
    "\n",
    "encoded_class_labels=[class_0_train,class_1_train,class_2_train,\n",
    "                     class_3_train,class_4_train,class_5_train,\n",
    "                     class_6_train,class_7_train,class_8_train,class_9_train]"
   ]
  },
  {
   "cell_type": "code",
   "execution_count": 33,
   "metadata": {
    "scrolled": true
   },
   "outputs": [
    {
     "name": "stdout",
     "output_type": "stream",
     "text": [
      "It correctly predicted the actual value from the test data: 3\n",
      "\n",
      "\n",
      "It correctly predicted the actual value from the test data: 6\n",
      "\n",
      "\n",
      "It correctly predicted the actual value from the test data: 9\n",
      "\n",
      "\n",
      "It correctly predicted the actual value from the test data: 8\n",
      "\n",
      "\n",
      "It correctly predicted the actual value from the test data: 7\n",
      "\n",
      "\n"
     ]
    }
   ],
   "source": [
    "for i in range(5):\n",
    "        \n",
    "        actual_value=int(y_test_full[i])\n",
    "        \n",
    "        encoded_label=encoded_class_labels[actual_value]\n",
    "        \n",
    "        predictor=trained_class_predictors[i]\n",
    "        \n",
    "        prediction=predictor.do_predict(X_test[i])\n",
    "        \n",
    "        encoded_value=encoded_label[i]\n",
    "        \n",
    "        if prediction==encoded_value:\n",
    "            \n",
    "            print(f\"It correctly predicted the actual value from the test data: {actual_value}\")\n",
    "            \n",
    "        else:\n",
    "            print(\"Made a wrong prediction\")\n",
    "            \n",
    "        print(\"\\n\")"
   ]
  },
  {
   "cell_type": "markdown",
   "metadata": {},
   "source": [
    "#### Version B: Create a 10-perceptron Sigmoid-Activation Neural Network to predict all classes"
   ]
  },
  {
   "cell_type": "code",
   "execution_count": 34,
   "metadata": {},
   "outputs": [],
   "source": [
    "from scipy.stats import truncnorm"
   ]
  },
  {
   "cell_type": "code",
   "execution_count": 35,
   "metadata": {},
   "outputs": [],
   "source": [
    "@np.vectorize\n",
    "def sigmoid(x):\n",
    "    return 1/(1+(np.e**(-x)))\n",
    "\n",
    "activation_function=sigmoid\n",
    "\n",
    "def truncated_normal(low=0,upp=1,sd=1,mean=0):\n",
    "\n",
    "    return truncnorm ((low-mean)/sd,(upp-mean)/sd,scale=sd,loc=mean)"
   ]
  },
  {
   "cell_type": "code",
   "execution_count": 36,
   "metadata": {},
   "outputs": [],
   "source": [
    "class Perceptron_10_Combined:\n",
    "\n",
    "    def __init__ (self,no_input,no_bias,no_output,learning_rate):\n",
    "\n",
    "        self.input=no_input\n",
    "        self.bias=no_bias\n",
    "        self.output=no_output\n",
    "        self.learning_rate=learning_rate\n",
    "        self.create_weight_matrices()\n",
    "\n",
    "\n",
    "    def create_weight_matrices(self):\n",
    "\n",
    "        bias_node=1 if self.bias else 0\n",
    "        r1=1/np.sqrt(self.input+bias_node)\n",
    "        X1=truncated_normal(low=-r1,upp=r1,mean=0,sd=1)\n",
    "        self.wih=X1.rvs((self.output,(self.input+bias_node)))\n",
    "\n",
    "\n",
    "    def train_single(self,input_vector,target_vector):\n",
    "\n",
    "        target_vector=np.array(target_vector,ndmin=2).T\n",
    "\n",
    "        input_vector=np.array(input_vector,ndmin=2).T\n",
    "\n",
    "        if self.bias:\n",
    "\n",
    "            input_vector=np.concatenate((input_vector,[[self.bias]]))\n",
    "\n",
    "        output_z=np.dot(self.wih,input_vector)\n",
    "\n",
    "        output_activation=activation_function(output_z)\n",
    "\n",
    "        output_error=target_vector-output_activation\n",
    "\n",
    "        #backpropagating\n",
    "\n",
    "        tmp1=output_error*output_activation*(1-output_activation)\n",
    "\n",
    "        tmp1=self.learning_rate*np.dot(tmp1,input_vector.T)\n",
    "\n",
    "        self.wih+=tmp1\n",
    "\n",
    "\n",
    "    def train_epochs(self,data_array,labels_encoded,epochs,trigger=False):\n",
    "\n",
    "        #def train_single(self,input_vector,target_vector):\n",
    "        self.weight_updates=[]\n",
    "\n",
    "        for epoch in range(epochs):\n",
    "\n",
    "            for i in range(len(data_array)):\n",
    "\n",
    "                self.train_single(data_array[i],labels_encoded[i])\n",
    "\n",
    "            if trigger:\n",
    "\n",
    "                self.weight_updates.append(self.wih.copy())\n",
    "\n",
    "        return self.weight_updates\n",
    "\n",
    "\n",
    "    def predict(self,input_vector):\n",
    "\n",
    "        input_vector=np.array(input_vector,ndmin=2).T\n",
    "\n",
    "        if self.bias:\n",
    "\n",
    "            input_vector=np.concatenate((input_vector,[[self.bias]]))\n",
    "\n",
    "        output_z=np.dot(self.wih,input_vector)\n",
    "\n",
    "        output_activation=activation_function(output_z)\n",
    "\n",
    "\n",
    "        return output_activation\n",
    "\n",
    "\n",
    "    def accuracy(self,data_array,labels):\n",
    "\n",
    "        correct,wrong=0,0\n",
    "\n",
    "        for i in range(len(data_array)):\n",
    "\n",
    "            predicted=self.predict(data_array[i])\n",
    "\n",
    "            actual_label=int(labels[i][0])\n",
    "\n",
    "            predicted_max=np.argmax(predicted)\n",
    "\n",
    "            if predicted_max==actual_label:\n",
    "\n",
    "                correct+=1\n",
    "            else:\n",
    "                wrong+=1\n",
    "\n",
    "\n",
    "        accuracy=correct/(correct+wrong)\n",
    "\n",
    "        return accuracy\n",
    "\n",
    "\n",
    "    def confusion_matrix(self,data_array,labels):\n",
    "\n",
    "        cm=np.zeros((class_length,class_length),int)\n",
    "\n",
    "        for i in range(len(data_array)):\n",
    "\n",
    "            predicted=self.predict(data_array[i])\n",
    "\n",
    "            predicted=np.argmax(predicted)\n",
    "\n",
    "            actual_label=int(labels[i][0])\n",
    "\n",
    "            cm[actual_label,predicted]+=1\n",
    "\n",
    "        return cm\n",
    "\n",
    "    def precion_recall(self,label,confusion_matrix):\n",
    "\n",
    "        true_positives=confusion_matrix[label,label]\n",
    "\n",
    "        true_positive_plus_false_positives=confusion_matrix[:,label].sum()\n",
    "\n",
    "        true_positives_plus_false_negatives=confusion_matrix[label,:].sum()\n",
    "\n",
    "        #precision=true positives/(true positives + false positives)\n",
    "\n",
    "        precision=true_positives/true_positive_plus_false_positives\n",
    "\n",
    "        #recall=true positives/(true positives + false negatives)\n",
    "\n",
    "        recall=true_positives/true_positives_plus_false_negatives\n",
    "\n",
    "        return (precision,recall)\n"
   ]
  },
  {
   "cell_type": "code",
   "execution_count": 37,
   "metadata": {},
   "outputs": [],
   "source": [
    "y_train_full=train_data[:,0]\n",
    "\n",
    "y_test_full=test_data[:,0]\n",
    "\n",
    "class_length=len(np.unique(y_train_full))\n",
    "\n",
    "label_encoder=np.arange(class_length)"
   ]
  },
  {
   "cell_type": "code",
   "execution_count": 38,
   "metadata": {},
   "outputs": [],
   "source": [
    "y_train_full=y_train_full.reshape(-1,1)\n",
    "y_test_full=y_test_full.reshape(-1,1)"
   ]
  },
  {
   "cell_type": "code",
   "execution_count": 39,
   "metadata": {},
   "outputs": [],
   "source": [
    "train_labels_encoded=(label_encoder==y_train_full).astype(float)\n",
    "\n",
    "test_labels_encoded=(label_encoder==y_test_full).astype(float)"
   ]
  },
  {
   "cell_type": "code",
   "execution_count": 40,
   "metadata": {},
   "outputs": [],
   "source": [
    "combined_perceptron=Perceptron_10_Combined(784,1,10,0.01)\n",
    "combined_perceptron_weights=combined_perceptron.train_epochs(X_train,train_labels_encoded,80,trigger=True)"
   ]
  },
  {
   "cell_type": "code",
   "execution_count": 41,
   "metadata": {},
   "outputs": [],
   "source": [
    "y_test2=y_test.reshape(-1,1)"
   ]
  },
  {
   "cell_type": "code",
   "execution_count": 42,
   "metadata": {},
   "outputs": [
    {
     "data": {
      "text/plain": [
       "0.3511737089201878"
      ]
     },
     "execution_count": 42,
     "metadata": {},
     "output_type": "execute_result"
    }
   ],
   "source": [
    "accuracy_test=combined_perceptron.accuracy(X_test,y_test2)\n",
    "accuracy_test"
   ]
  },
  {
   "cell_type": "code",
   "execution_count": 43,
   "metadata": {},
   "outputs": [],
   "source": [
    "y_train2=train_data[:,0]\n",
    "y_train2=y_train2.reshape(-1,1)"
   ]
  },
  {
   "cell_type": "code",
   "execution_count": 44,
   "metadata": {
    "scrolled": true
   },
   "outputs": [
    {
     "data": {
      "text/plain": [
       "0.41788942364127246"
      ]
     },
     "execution_count": 44,
     "metadata": {},
     "output_type": "execute_result"
    }
   ],
   "source": [
    "accuracy_train=combined_perceptron.accuracy(X_train,y_train2)\n",
    "accuracy_train"
   ]
  },
  {
   "cell_type": "code",
   "execution_count": 45,
   "metadata": {},
   "outputs": [
    {
     "name": "stdout",
     "output_type": "stream",
     "text": [
      "Predicted Label is: 9\n",
      "Actual label is: 3.0\n",
      "Predicted Label is: 9\n",
      "Actual label is: 6.0\n",
      "Predicted Label is: 4\n",
      "Actual label is: 9.0\n",
      "Predicted Label is: 9\n",
      "Actual label is: 8.0\n",
      "Predicted Label is: 7\n",
      "Actual label is: 7.0\n",
      "Predicted Label is: 6\n",
      "Actual label is: 8.0\n",
      "Predicted Label is: 9\n",
      "Actual label is: 9.0\n",
      "Predicted Label is: 7\n",
      "Actual label is: 7.0\n",
      "Predicted Label is: 9\n",
      "Actual label is: 0.0\n",
      "Predicted Label is: 4\n",
      "Actual label is: 6.0\n"
     ]
    }
   ],
   "source": [
    "#evaluating predictions from the combined perceptron \n",
    "\n",
    "for i in range(10):\n",
    "    prediction=combined_perceptron.predict(X_test[i])\n",
    "    predicted_max=np.argmax(prediction)\n",
    "    print(f\"Predicted Label is: {predicted_max}\")\n",
    "    print(f\"Actual label is: {y_test2[i][0]}\")"
   ]
  },
  {
   "cell_type": "markdown",
   "metadata": {},
   "source": [
    "### 1.5. Print weights and O-MNIST data"
   ]
  },
  {
   "cell_type": "code",
   "execution_count": 46,
   "metadata": {},
   "outputs": [],
   "source": [
    "from matplotlib.pyplot import imshow"
   ]
  },
  {
   "cell_type": "code",
   "execution_count": 47,
   "metadata": {},
   "outputs": [
    {
     "data": {
      "image/png": "[encoded data removed]",
      "text/plain": [
       "<Figure size 1000x1500 with 6 Axes>"
      ]
     },
     "metadata": {},
     "output_type": "display_data"
    }
   ],
   "source": [
    "fig, ax = plt.subplots(nrows=3, ncols=2, figsize=(10, 15)) # I adjusted figsize for improved visibility\n",
    "\n",
    "label_names=[\"car\",\"harbor\",\"helicopter\",\"oil_gas_field\",\"parking_lot\",\"plane\",\"runway_mark\",\"ship\",\"stadium\",\"storage_tank\"]\n",
    "\n",
    "for i in range(6):\n",
    "    \n",
    "    actual_label=int(y_test2[i][0])\n",
    "    \n",
    "    row = i // 2 # Integer division to get the row index\n",
    "    \n",
    "    col = i % 2  # Modulo to get the column index\n",
    "    \n",
    "    title = label_names[actual_label]\n",
    "    \n",
    "    ax[row, col].imshow(X_test[i].reshape(28, 28), cmap=\"viridis\")\n",
    "    \n",
    "    ax[row, col].set_title(title)\n",
    "    \n",
    "    ax[row, col].axis('off') # I chose to hide the axis for a cleaner look\n",
    "\n",
    "plt.tight_layout() # Adjust subplots to fit into the figure area.\n",
    "plt.show()\n"
   ]
  },
  {
   "cell_type": "markdown",
   "metadata": {},
   "source": [
    "#### Printing Perceptron Weights across Epochs"
   ]
  },
  {
   "cell_type": "code",
   "execution_count": 48,
   "metadata": {},
   "outputs": [
    {
     "data": {
      "image/png": "[encoded data removed]",
      "text/plain": [
       "<Figure size 800x600 with 1 Axes>"
      ]
     },
     "metadata": {},
     "output_type": "display_data"
    }
   ],
   "source": [
    "# Calculating the average absolute values of weights for each epoch to evaluate network performance\n",
    "\n",
    "weights_magnitude = [np.abs(weights).mean() for weights in combined_perceptron_weights]\n",
    "\n",
    "# Plotting\n",
    "plt.figure(figsize=(8, 6))\n",
    "plt.plot(weights_magnitude, marker='o', linestyle='-', color='b')\n",
    "plt.title('Evolution of Weight Magnitudes Over Epochs')\n",
    "plt.xlabel('Epoch')\n",
    "plt.ylabel('Average Absolute Weight')\n",
    "plt.grid(True)\n",
    "plt.show()\n"
   ]
  },
  {
   "cell_type": "markdown",
   "metadata": {},
   "source": [
    "## Analysis"
   ]
  },
  {
   "cell_type": "markdown",
   "metadata": {},
   "source": [
    "Analysis (step activation / online learning, step activation / full batch learning, sigmoid activation /\n",
    "online learning, sigmoid activation / full batch learning) "
   ]
  },
  {
   "cell_type": "markdown",
   "metadata": {},
   "source": [
    "### Analyzing the step activation: online and  full batch learning"
   ]
  },
  {
   "cell_type": "markdown",
   "metadata": {},
   "source": [
    "Analyzing the performance metrics and confusion matrices for both the online and batch learning implementations of a single-layer Perceptron with step activation reveals insightful distinctions in their capabilities and potential applications.\n",
    "\n",
    "Firstly, the online learning Perceptron, which updates weights after each training example, achieved an accuracy of 92.88% with a precision of 98.67% and a recall of 94.06%. Its confusion matrix indicates that it correctly identified 7525 non-ship images (true negatives) and 388 ship images (true positives), while misclassifying 107 non-ship images as ships (false positives) and failing to recognize 500 ship images (false negatives).\n",
    "\n",
    "In contrast, the batch learning approach, which accumulates weight updates across a batch of training examples before applying changes, resulted in a slightly lower accuracy of 92.28%. However, it exhibited a higher precision of 99.53% but a lower recall of 92.68%. This model correctly classified 7595 true negatives and 267 true positives but had fewer false positives (37) and more false negatives (621) compared to the online learning model.\n",
    "\n",
    "The differences in performance can be attributed to how each model approaches learning. Online learning's iterative, example-by-example update mechanism allows it to adapt more dynamically to the data, potentially making it better suited for environments where data arrives sequentially or the model needs to adapt to new patterns over time. This could explain its slightly higher recall, indicating a better capability to identify relevant patterns (ships in this case) at the cost of a marginally increased rate of false positives.\n",
    "\n",
    "Batch learning's more stable and less reactive update mechanism, on the other hand, yields higher precision, evidenced by its remarkable ability to minimize false positives. This suggests that batch learning might be more appropriate in applications where avoiding false alarms is critical, even if it means potentially missing more true positives, as indicated by its slightly lower recall.\n",
    "\n",
    "Despite these differences, both models exhibit high precision, underscoring their effectiveness in correctly identifying ships when they predict one is present. However, the recall difference points towards a trade-off between sensitivity to detecting ships and the propensity to mislabel non-ship images as ships.\n",
    "\n",
    "The choice between online and batch learning should therefore be guided by the specific requirements of the application environment. If adapting to new data continuously is crucial, and a higher false positive rate is acceptable, online learning provides a viable solution. Conversely, for applications where minimizing false positives is paramount, batch learning's conservative update strategy offers a compelling advantage.\n",
    "\n",
    "In conclusion, while both models demonstrate strong performance, their subtle differences in precision and recall, alongside the trade-offs between adaptability and caution, highlight the importance of tailoring the learning approach to the specific needs of the task at hand."
   ]
  },
  {
   "cell_type": "markdown",
   "metadata": {},
   "source": [
    "### Analyzing the sigmoid activation: online and batch learning"
   ]
  },
  {
   "cell_type": "markdown",
   "metadata": {},
   "source": [
    "\n",
    "Analyzing the performance of my Perceptron implementations with sigmoid activation reveals intriguing insights into the trade-offs between online and batch learning modes as well as the impact of activation functions on binary classification tasks.\n",
    "\n",
    "For the online learning Perceptron, I observed an accuracy of 92.70%, precision of 99.36%, and recall of 93.26%. These results underscore the model's effectiveness in classifying data with high confidence (as evidenced by the near-perfect precision score), suggesting it's particularly adept at minimizing false positives; only 51 non-ship images were misclassified as ships. The recall score, while slightly lower, indicates a strong ability to identify relevant instances (ships), though it missed a more significant number of them (571) compared to false positives. This could suggest that while the model is conservative in its predictions (erring on the side of caution), it occasionally misses identifying ships, likely due to the varied and complex features associated with these images.\n",
    "\n",
    "On the other hand, the batch learning approach with sigmoid activation yielded an accuracy of 89.87%, precision of 100%, and recall of 89.87%. The standout figure here is the precision score, which suggests that every image classified as a ship was indeed a ship, reflecting an exceptionally high specificity. However, this model exhibited a lower recall and accuracy compared to the online learning model, which could be attributed to its higher tendency to classify ships as non-ships, thus missing a substantial number of positive cases (863 missed ships).\n",
    "\n",
    "The stark contrast in precision between the two models highlights the significant impact of learning mode on classification behavior. The online learning model's iterative, instance-by-instance update mechanism might better capture the variability within the \"ship\" class, thus balancing false positives and negatives more effectively. In contrast, the batch learning approach, which updates weights based on the aggregated errors over a batch, might be skewing the model towards avoiding false positives at the expense of misclassifying a higher number of ships as non-ships.\n",
    "\n",
    "The higher recall of the online model versus the batch model suggests that the former is more sensitive to detecting positive instances, making it more suitable for applications where missing a positive instance (a ship, in this context) carries a higher cost. However, the batch model’s perfect precision could be more desirable in scenarios where the cost of a false positive is higher.\n",
    "\n",
    "In conclusion, the choice between online and batch learning, especially with a sigmoid activation function, involves a trade-off between precision and recall. The online learning perceptron offers a balanced approach, making it versatile for varied applications, while the batch learning perceptron, with its impeccable precision, is ideal for situations where false positives must be minimized at all costs. This analysis underscores the importance of aligning the learning mode and activation function with the specific requirements of the classification task at hand."
   ]
  },
  {
   "cell_type": "markdown",
   "metadata": {},
   "source": [
    "### Comparing Sigmoid and Step functions performance"
   ]
  },
  {
   "cell_type": "markdown",
   "metadata": {},
   "source": [
    "Comparing the performance of Perceptrons with sigmoid and step activations in online learning modes reveals distinct outcomes due to activation functions and learning strategies. The online learning Perceptron with step activation achieved an accuracy of 92.88%, precision of 98.67%, and recall of 94.06%, whereas its sigmoid counterpart posted an accuracy of 92.70%, precision of 99.36%, and recall of 93.26%. \n",
    "\n",
    "The slight edge in accuracy and recall for the step activation model suggests a marginally better overall performance in correctly identifying ships and minimizing misclassifications. However, the sigmoid activation model shines in precision, virtually eliminating false positives with a near-perfect precision score, indicative of its exceptional specificity in classifying ships accurately when it chooses to do so.\n",
    "\n",
    "The difference in recall between the two models, albeit minor, points to the step activation's slightly better sensitivity in detecting positive instances. Meanwhile, the sigmoid model's superior precision demonstrates its strength in confidently asserting positive classifications with minimal error. This comparison underlines the trade-offs between sensitivity and specificity, influenced by the choice of activation function in online learning scenarios, highlighting the nuanced considerations required to optimize performance for specific task requirements."
   ]
  },
  {
   "cell_type": "code",
   "execution_count": null,
   "metadata": {},
   "outputs": [],
   "source": []
  }
 ],
 "metadata": {
  "kernelspec": {
   "display_name": "Python 3 (ipykernel)",
   "language": "python",
   "name": "python3"
  },
  "language_info": {
   "codemirror_mode": {
    "name": "ipython",
    "version": 3
   },
   "file_extension": ".py",
   "mimetype": "text/x-python",
   "name": "python",
   "nbconvert_exporter": "python",
   "pygments_lexer": "ipython3",
   "version": "3.11.5"
  },
  "vscode": {
   "interpreter": {
    "hash": "dddedaa35bad3fac85e6b892adc5ae6a6e37a1f5099d423ec882876c2ee1a6ff"
   }
  }
 },
 "nbformat": 4,
 "nbformat_minor": 4
}
